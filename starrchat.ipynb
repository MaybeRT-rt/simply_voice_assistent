{
 "cells": [
  {
   "cell_type": "code",
   "execution_count": 46,
   "id": "eb2d8032",
   "metadata": {},
   "outputs": [],
   "source": [
    "import pandas as pd\n",
    "from sklearn.feature_extraction.text import TfidfVectorizer\n",
    "from sklearn.decomposition import TruncatedSVD\n",
    "import numpy as np\n",
    "from sklearn.neighbors import BallTree\n",
    "from sklearn.base import BaseEstimator\n",
    "from sklearn.pipeline import make_pipeline"
   ]
  },
  {
   "cell_type": "code",
   "execution_count": 47,
   "id": "03adf368",
   "metadata": {},
   "outputs": [
    {
     "data": {
      "text/html": [
       "<div>\n",
       "<style scoped>\n",
       "    .dataframe tbody tr th:only-of-type {\n",
       "        vertical-align: middle;\n",
       "    }\n",
       "\n",
       "    .dataframe tbody tr th {\n",
       "        vertical-align: top;\n",
       "    }\n",
       "\n",
       "    .dataframe thead th {\n",
       "        text-align: right;\n",
       "    }\n",
       "</style>\n",
       "<table border=\"1\" class=\"dataframe\">\n",
       "  <thead>\n",
       "    <tr style=\"text-align: right;\">\n",
       "      <th></th>\n",
       "      <th>context_2</th>\n",
       "      <th>context_1</th>\n",
       "      <th>context_0</th>\n",
       "      <th>reply</th>\n",
       "      <th>label</th>\n",
       "    </tr>\n",
       "  </thead>\n",
       "  <tbody>\n",
       "    <tr>\n",
       "      <th>38514</th>\n",
       "      <td>NaN</td>\n",
       "      <td>NaN</td>\n",
       "      <td>знаю .</td>\n",
       "      <td>я знаю , что ты знаешь .</td>\n",
       "      <td>good</td>\n",
       "    </tr>\n",
       "    <tr>\n",
       "      <th>3452</th>\n",
       "      <td>NaN</td>\n",
       "      <td>NaN</td>\n",
       "      <td>я . . .</td>\n",
       "      <td>и я .</td>\n",
       "      <td>neutral</td>\n",
       "    </tr>\n",
       "    <tr>\n",
       "      <th>16343</th>\n",
       "      <td>нет , я в порядке .</td>\n",
       "      <td>и это вы ?</td>\n",
       "      <td>да .</td>\n",
       "      <td>я рад , что вы здесь .</td>\n",
       "      <td>good</td>\n",
       "    </tr>\n",
       "    <tr>\n",
       "      <th>14957</th>\n",
       "      <td>как только появляется танцор , ломается каблук .</td>\n",
       "      <td>здесь нам этого не простят .</td>\n",
       "      <td>вперед и прямо . ты меня , кстати , уже один р...</td>\n",
       "      <td>что ? нет , я не носил .</td>\n",
       "      <td>good</td>\n",
       "    </tr>\n",
       "    <tr>\n",
       "      <th>7330</th>\n",
       "      <td>NaN</td>\n",
       "      <td>простите !</td>\n",
       "      <td>вы можете мне помочь ?</td>\n",
       "      <td>конечно , помогу .</td>\n",
       "      <td>good</td>\n",
       "    </tr>\n",
       "  </tbody>\n",
       "</table>\n",
       "</div>"
      ],
      "text/plain": [
       "                                              context_2  \\\n",
       "38514                                               NaN   \n",
       "3452                                                NaN   \n",
       "16343                               нет , я в порядке .   \n",
       "14957  как только появляется танцор , ломается каблук .   \n",
       "7330                                                NaN   \n",
       "\n",
       "                          context_1  \\\n",
       "38514                           NaN   \n",
       "3452                            NaN   \n",
       "16343                    и это вы ?   \n",
       "14957  здесь нам этого не простят .   \n",
       "7330                     простите !   \n",
       "\n",
       "                                               context_0  \\\n",
       "38514                                             знаю .   \n",
       "3452                                             я . . .   \n",
       "16343                                               да .   \n",
       "14957  вперед и прямо . ты меня , кстати , уже один р...   \n",
       "7330                              вы можете мне помочь ?   \n",
       "\n",
       "                          reply    label  \n",
       "38514  я знаю , что ты знаешь .     good  \n",
       "3452                      и я .  neutral  \n",
       "16343    я рад , что вы здесь .     good  \n",
       "14957  что ? нет , я не носил .     good  \n",
       "7330         конечно , помогу .     good  "
      ]
     },
     "execution_count": 47,
     "metadata": {},
     "output_type": "execute_result"
    }
   ],
   "source": [
    "good = pd.read_csv('good.tsv', sep='\\t')\n",
    "good.sample(5)"
   ]
  },
  {
   "cell_type": "code",
   "execution_count": 48,
   "id": "84689551",
   "metadata": {},
   "outputs": [
    {
     "name": "stdout",
     "output_type": "stream",
     "text": [
      "прекрасно , а ты ?\n"
     ]
    }
   ],
   "source": [
    "rep = good[good.context_0 == 'как ты ?'].reply\n",
    "if rep.shape[0] > 0:\n",
    "    print(rep.sample(1).iloc[0])"
   ]
  },
  {
   "cell_type": "code",
   "execution_count": 49,
   "id": "23167924",
   "metadata": {},
   "outputs": [
    {
     "name": "stdout",
     "output_type": "stream",
     "text": [
      "(60049, 14123)\n"
     ]
    }
   ],
   "source": [
    "vectorizer = TfidfVectorizer()\n",
    "vectorizer.fit(good.context_0)\n",
    "matrix_big = vectorizer.transform(good.context_0)\n",
    "print(matrix_big.shape)"
   ]
  },
  {
   "cell_type": "code",
   "execution_count": 50,
   "id": "e8ac0d8e",
   "metadata": {},
   "outputs": [
    {
     "name": "stdout",
     "output_type": "stream",
     "text": [
      "(60049, 500)\n",
      "0.5125713815424835\n"
     ]
    }
   ],
   "source": [
    "svd = TruncatedSVD(n_components=500)\n",
    "svd.fit(matrix_big)\n",
    "matrix_small = svd.transform(matrix_big)\n",
    "print(matrix_small.shape)\n",
    "print(svd.explained_variance_ratio_.sum())"
   ]
  },
  {
   "cell_type": "code",
   "execution_count": 51,
   "id": "64a4770c",
   "metadata": {},
   "outputs": [],
   "source": [
    "def softmax(x):\n",
    "    proba = np.exp(-x)\n",
    "    return proba / sum(proba)\n",
    "\n",
    "class NeighborSampler(BaseEstimator):\n",
    "    def __init__(self, k=5, temperature=1.0):\n",
    "        self.k = k\n",
    "        self.temperature =  temperature\n",
    "    def fit(self, X, y):\n",
    "        self.tree_ = BallTree(X)\n",
    "        self.y_ = np.array(y)\n",
    "    def predict(self, X, random_state=None):\n",
    "        distances, indices = self.tree_.query(X, return_distance=True, k=self.k)\n",
    "        result = []\n",
    "        for distances, index in zip(distances, indices):\n",
    "            result.append(np.random.choice(index, p=softmax(distances * self.temperature)))\n",
    "        return self.y_[result]"
   ]
  },
  {
   "cell_type": "code",
   "execution_count": 52,
   "id": "f100cbd6",
   "metadata": {},
   "outputs": [],
   "source": [
    "ns = NeighborSampler()\n",
    "ns.fit(matrix_small, good.reply)\n",
    "pipe = make_pipeline(vectorizer, svd, ns)"
   ]
  },
  {
   "cell_type": "code",
   "execution_count": 53,
   "id": "78ab243d",
   "metadata": {},
   "outputs": [
    {
     "name": "stdout",
     "output_type": "stream",
     "text": [
      "['он здесь !']\n"
     ]
    }
   ],
   "source": [
    "print(pipe.predict(['где ты живешь?']))"
   ]
  }
 ],
 "metadata": {
  "kernelspec": {
   "display_name": "Python 3",
   "language": "python",
   "name": "python3"
  },
  "language_info": {
   "codemirror_mode": {
    "name": "ipython",
    "version": 3
   },
   "file_extension": ".py",
   "mimetype": "text/x-python",
   "name": "python",
   "nbconvert_exporter": "python",
   "pygments_lexer": "ipython3",
   "version": "3.8.7"
  }
 },
 "nbformat": 4,
 "nbformat_minor": 5
}